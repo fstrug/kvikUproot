{
 "cells": [
  {
   "cell_type": "code",
   "execution_count": 4,
   "id": "d0fb6be4-ee9c-44fb-922a-2bb8e0ef6169",
   "metadata": {},
   "outputs": [
    {
     "name": "stdout",
     "output_type": "stream",
     "text": [
      "<pyarrow._parquet.ColumnChunkMetaData object at 0x7f8424a07f60>\n",
      "  file_offset: 684\n",
      "  file_path: \n",
      "  physical_type: INT32\n",
      "  num_values: 308919\n",
      "  path_in_schema: run\n",
      "  is_stats_set: True\n",
      "  statistics:\n",
      "    <pyarrow._parquet.Statistics object at 0x7f8424a07e20>\n",
      "      has_min_max: True\n",
      "      min: 194050\n",
      "      max: 196531\n",
      "      null_count: 0\n",
      "      distinct_count: None\n",
      "      num_values: 308919\n",
      "      physical_type: INT32\n",
      "      logical_type: None\n",
      "      converted_type (legacy): NONE\n",
      "  compression: ZSTD\n",
      "  encodings: ('RLE', 'PLAIN')\n",
      "  has_dictionary_page: False\n",
      "  dictionary_page_offset: None\n",
      "  data_page_offset: 4\n",
      "  total_compressed_size: 680\n",
      "  total_uncompressed_size: 1235790\n"
     ]
    }
   ],
   "source": [
    "import cupy\n",
    "import cudf\n",
    "import pyarrow as pa\n",
    "import pandas as pd\n",
    "filepath = \"/home/fstrug/uscmshome/nobackup/temp/Run2012B_SingleMu_compressed_zstdlv3_Pv2-6_PPv2-0_PLAIN.parquet\"\n",
    "\n",
    "import pyarrow.parquet as pq\n",
    "pqfile=pq.ParquetFile(filepath)\n",
    "print(pqfile.metadata.row_group(0).column(0))\n"
   ]
  },
  {
   "cell_type": "code",
   "execution_count": 12,
   "id": "70db9a26-abad-42d1-aef9-6c838f0b0719",
   "metadata": {},
   "outputs": [
    {
     "name": "stdout",
     "output_type": "stream",
     "text": [
      "                                                     Jet_pt\n",
      "0                   [71.74247741699219, 27.820533752441406]\n",
      "1         [23.159303665161133, 21.095521926879883, 17.39...\n",
      "2         [72.6034164428711, 51.30512619018555, 33.70857...\n",
      "3                                      [18.851543426513672]\n",
      "4                                                        []\n",
      "...                                                     ...\n",
      "53446193  [66.18058013916016, 22.103412628173828, 16.526...\n",
      "53446194  [29.532352447509766, 29.10416603088379, 27.910...\n",
      "53446195  [26.55704116821289, 24.41672134399414, 20.1562...\n",
      "53446196  [40.85584259033203, 26.402400970458984, 19.868...\n",
      "53446197                               [16.987823486328125]\n",
      "\n",
      "[53446198 rows x 1 columns]\n",
      "CPU times: user 388 ms, sys: 414 ms, total: 802 ms\n",
      "Wall time: 2.66 s\n"
     ]
    }
   ],
   "source": [
    "%%time\n",
    "# Reading directly to GPU with CUDF\n",
    "cudf.set_option(\"copy_on_write\", False)\n",
    "with cupy.cuda.Device() as d:\n",
    "    jet_pt_cudf_togpu = cudf.read_parquet(filepath, engine=\"cudf\", columns = [\"Jet_pt\"])\n",
    "    print(jet_pt_cudf_togpu)\n",
    "    d.synchronize()"
   ]
  },
  {
   "cell_type": "code",
   "execution_count": null,
   "id": "3ca15756-adf1-4b6b-b340-2e664fc49114",
   "metadata": {},
   "outputs": [],
   "source": [
    "%%time\n",
    "# Reading to CPU and copying to GPU\n",
    "with cupy.cuda.Device() as d:\n",
    "    jet_pt_arrow = pa.parquet.read_table(filepath, columns = [\"Jet_pt\"])\n",
    "    jet_pt_cudf_cputogpu = cudf.DataFrame.from_arrow(jet_pt_arrow)\n",
    "    d.synchronize()"
   ]
  }
 ],
 "metadata": {
  "kernelspec": {
   "display_name": "Python [conda env:.conda-kvikio-env]",
   "language": "python",
   "name": "conda-env-.conda-kvikio-env-py"
  },
  "language_info": {
   "codemirror_mode": {
    "name": "ipython",
    "version": 3
   },
   "file_extension": ".py",
   "mimetype": "text/x-python",
   "name": "python",
   "nbconvert_exporter": "python",
   "pygments_lexer": "ipython3",
   "version": "3.11.9"
  }
 },
 "nbformat": 4,
 "nbformat_minor": 5
}
