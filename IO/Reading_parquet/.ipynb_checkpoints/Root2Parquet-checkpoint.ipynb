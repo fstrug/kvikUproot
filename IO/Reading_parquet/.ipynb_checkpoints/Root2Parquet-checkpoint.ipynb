{
 "cells": [
  {
   "cell_type": "code",
   "execution_count": null,
   "id": "01628d41-76fd-4804-bf7c-ee62a7938210",
   "metadata": {},
   "outputs": [],
   "source": [
    "from hepconvert import root_to_parquet"
   ]
  },
  {
   "cell_type": "code",
   "execution_count": null,
   "id": "29f95dce-b9f4-4801-a310-87af3bda42a3",
   "metadata": {},
   "outputs": [],
   "source": [
    "# Root to parquet settings\n",
    "root_to_parquet(in_file = None,\n",
    "                out_file = None,\n",
    "                tree = \"Events\",\n",
    "                force = True,\n",
    "                compression = \"zstd\",\n",
    "                compression_level = 3,\n",
    "                extensionarray=False,\n",
    "                parquet_version=\"2.6\",\n",
    "                parquet_page_version=\"2.0\",\n",
    "                parquet_dictionary_encoding = False, \n",
    "                parquet_extra_options = {\"column_encoding\": \"PLAIN\"}\n",
    "               )"
   ]
  }
 ],
 "metadata": {
  "kernelspec": {
   "display_name": "Python [conda env:.conda-kvikio-env]",
   "language": "python",
   "name": "conda-env-.conda-kvikio-env-py"
  },
  "language_info": {
   "codemirror_mode": {
    "name": "ipython",
    "version": 3
   },
   "file_extension": ".py",
   "mimetype": "text/x-python",
   "name": "python",
   "nbconvert_exporter": "python",
   "pygments_lexer": "ipython3",
   "version": "3.11.9"
  }
 },
 "nbformat": 4,
 "nbformat_minor": 5
}
