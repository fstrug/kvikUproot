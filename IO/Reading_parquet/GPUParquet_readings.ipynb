{
 "cells": [
  {
   "cell_type": "code",
   "execution_count": 1,
   "id": "d0fb6be4-ee9c-44fb-922a-2bb8e0ef6169",
   "metadata": {},
   "outputs": [
    {
     "name": "stdout",
     "output_type": "stream",
     "text": [
      "<pyarrow._parquet.ColumnChunkMetaData object at 0x7f9808975170>\n",
      "  file_offset: 684\n",
      "  file_path: \n",
      "  physical_type: INT32\n",
      "  num_values: 308919\n",
      "  path_in_schema: run\n",
      "  is_stats_set: True\n",
      "  statistics:\n",
      "    <pyarrow._parquet.Statistics object at 0x7f98089751c0>\n",
      "      has_min_max: True\n",
      "      min: 194050\n",
      "      max: 196531\n",
      "      null_count: 0\n",
      "      distinct_count: None\n",
      "      num_values: 308919\n",
      "      physical_type: INT32\n",
      "      logical_type: None\n",
      "      converted_type (legacy): NONE\n",
      "  compression: ZSTD\n",
      "  encodings: ('RLE', 'PLAIN')\n",
      "  has_dictionary_page: False\n",
      "  dictionary_page_offset: None\n",
      "  data_page_offset: 4\n",
      "  total_compressed_size: 680\n",
      "  total_uncompressed_size: 1235790\n"
     ]
    }
   ],
   "source": [
    "import cupy\n",
    "import cudf\n",
    "import pyarrow as pa\n",
    "import pandas as pd\n",
    "filepath = \"/home/fstrug/uscmshome/nobackup/temp/Run2012B_SingleMu_compressed_zstdlv3_Pv2-6_PPv2-0_PLAIN.parquet\"\n",
    "\n",
    "import pyarrow.parquet as pq\n",
    "pqfile=pq.ParquetFile(filepath)\n",
    "print(pqfile.metadata.row_group(0).column(0))"
   ]
  },
  {
   "cell_type": "code",
   "execution_count": 19,
   "id": "70db9a26-abad-42d1-aef9-6c838f0b0719",
   "metadata": {},
   "outputs": [
    {
     "name": "stdout",
     "output_type": "stream",
     "text": [
      "121 ms ± 2.87 ms per loop (mean ± std. dev. of 7 runs, 10 loops each)\n"
     ]
    }
   ],
   "source": [
    "%%timeit\n",
    "# Reading directly to GPU with CUDF\n",
    "cudf.set_option(\"copy_on_write\", False)\n",
    "with cupy.cuda.Device() as d:\n",
    "    MET_pt_cudf_togpu = cudf.read_parquet(filepath, engine=\"cudf\", columns = [\"MET_pt\"])\n",
    "    d.synchronize()"
   ]
  },
  {
   "cell_type": "code",
   "execution_count": 20,
   "id": "3ca15756-adf1-4b6b-b340-2e664fc49114",
   "metadata": {},
   "outputs": [
    {
     "name": "stdout",
     "output_type": "stream",
     "text": [
      "190 ms ± 12.3 ms per loop (mean ± std. dev. of 7 runs, 1 loop each)\n"
     ]
    }
   ],
   "source": [
    "%%timeit\n",
    "# BROKEN for jagged arrays: Reading to CPU and copying to GPU\n",
    "with cupy.cuda.Device() as d:\n",
    "    MET_pt_arrow = pa.parquet.read_table(filepath, columns = [\"MET_pt\"])\n",
    "    MET_pt_cudf_cputogpu = cudf.DataFrame.from_arrow(MET_pt_arrow)\n",
    "    d.synchronize()"
   ]
  },
  {
   "cell_type": "code",
   "execution_count": null,
   "id": "3b6b9778-8069-4962-87d0-b72e40b4083c",
   "metadata": {},
   "outputs": [],
   "source": []
  }
 ],
 "metadata": {
  "kernelspec": {
   "display_name": "Python [conda env:.conda-kvikio-env]",
   "language": "python",
   "name": "conda-env-.conda-kvikio-env-py"
  },
  "language_info": {
   "codemirror_mode": {
    "name": "ipython",
    "version": 3
   },
   "file_extension": ".py",
   "mimetype": "text/x-python",
   "name": "python",
   "nbconvert_exporter": "python",
   "pygments_lexer": "ipython3",
   "version": "3.11.9"
  }
 },
 "nbformat": 4,
 "nbformat_minor": 5
}
