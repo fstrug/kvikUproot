{
 "cells": [
  {
   "cell_type": "code",
   "execution_count": null,
   "id": "ca78004d-8f4c-4552-849b-6fb6c92f4965",
   "metadata": {},
   "outputs": [],
   "source": [
    "# Set up notebook and check compression of parquet file\n",
    "import cupy\n",
    "import cudf\n",
    "import pandas as pd\n",
    "import awkward as ak\n",
    "import pyarrow.parquet as pq\n",
    "filepath = \"/home/fstrug/uscmshome/nobackup/temp/Run2012B_SingleMu_compressed_zstdlv3_Pv2-6_PPv2-0_PLAIN.parquet\"\n",
    "pqfile=pq.ParquetFile(filepath)\n",
    "pqfile.metadata.row_group(0).column(0).compression"
   ]
  },
  {
   "cell_type": "markdown",
   "id": "22849ac8-faea-4eca-b624-a03ef644d1ca",
   "metadata": {},
   "source": [
    "# Benchmarking"
   ]
  },
  {
   "cell_type": "markdown",
   "id": "e21c1c37-b7ac-4a30-bdaa-4042536dd9d3",
   "metadata": {},
   "source": [
    "## Jet pt read"
   ]
  },
  {
   "cell_type": "code",
   "execution_count": null,
   "id": "88ca0d2e-995a-43f4-b470-e622f9782930",
   "metadata": {},
   "outputs": [],
   "source": [
    "#################################\n",
    "# Jet pt\n",
    "jet_pt_cudf_togpu = cudf.read_parquet(filepath, engine=\"cudf\", columns = [\"Jet_pt\"])\n",
    "jet_pt_pandas_read = pd.read_parquet(filepath, columns = [\"Jet_pt\"])\n",
    "jet_pt_awk = ak.from_parquet(filepath, columns = [\"Jet_pt\"])"
   ]
  },
  {
   "cell_type": "markdown",
   "id": "7f3c2e2a-858e-451e-81a5-6b86c379f24d",
   "metadata": {},
   "source": [
    "### Squaring an array - JET pt\n",
    "\n",
    "CUDF does not support jagged arrays fully right now."
   ]
  },
  {
   "cell_type": "code",
   "execution_count": null,
   "id": "1ec01f92-e7b3-497d-b4d3-2be137c95b9e",
   "metadata": {},
   "outputs": [],
   "source": [
    "%%timeit\n",
    "jet_pt_pandas_read ** 2"
   ]
  },
  {
   "cell_type": "code",
   "execution_count": null,
   "id": "55e71f6c-a0bb-4c0b-95d6-f1059661dac3",
   "metadata": {},
   "outputs": [],
   "source": [
    "%%timeit\n",
    "jet_pt_awk[\"Jet_pt\"] ** 2"
   ]
  },
  {
   "cell_type": "code",
   "execution_count": null,
   "id": "bc6dd75f-0b8d-4d97-8f52-ce0a0a7aadde",
   "metadata": {},
   "outputs": [],
   "source": [
    "%%timeit\n",
    "ak.to_backend(jet_pt_awk[\"Jet_pt\"], \"cuda\")**2"
   ]
  },
  {
   "cell_type": "markdown",
   "id": "24faa1fa-23d4-475b-a1aa-e858f0a415e1",
   "metadata": {},
   "source": [
    "## Read and square an array - MET pt"
   ]
  },
  {
   "cell_type": "code",
   "execution_count": null,
   "id": "13bdf5be-c904-406f-819c-092ac5bc47cf",
   "metadata": {},
   "outputs": [],
   "source": [
    "def square_array(array):\n",
    "    return array ** 2\n",
    "    \n",
    "cudf.set_option(\"copy_on_write\", False)"
   ]
  },
  {
   "cell_type": "code",
   "execution_count": null,
   "id": "17206b2b-0e27-4588-8257-ab0f7b444805",
   "metadata": {},
   "outputs": [],
   "source": [
    "%%timeit\n",
    "# CUDF - Read to GPU\n",
    "with cupy.cuda.Device() as d:\n",
    "    MET_pt_cudf_togpu = cudf.read_parquet(filepath, engine=\"cudf\", columns = [\"MET_pt\"])\n",
    "    MET_pt_cudf_togpu.MET_pt.apply(square_array)\n",
    "    d.synchronize()"
   ]
  },
  {
   "cell_type": "code",
   "execution_count": null,
   "id": "f6560f44-222e-4ab0-acc0-dade7aa538a1",
   "metadata": {},
   "outputs": [],
   "source": [
    "%%timeit\n",
    "# CUDF - Read to CPU, Copy to GPU\n",
    "with cupy.cuda.Device() as d:\n",
    "    MET_pt_arrow = pq.read_table(filepath, columns = [\"MET_pt\"])\n",
    "    MET_pt_cudf_cputogpu = cudf.DataFrame.from_arrow(MET_pt_arrow)\n",
    "    MET_pt_cudf_cputogpu.MET_pt ** 2\n",
    "    d.synchronize()"
   ]
  },
  {
   "cell_type": "code",
   "execution_count": null,
   "id": "014102f8-630c-4e53-bba7-0ee9cef132f0",
   "metadata": {},
   "outputs": [],
   "source": [
    "%%timeit\n",
    "# Awkward - Read to CPU, Copy to GPU\n",
    "with cupy.cuda.Device() as d:\n",
    "    MET_pt_arrow = pq.read_table(filepath, columns = [\"MET_pt\"])\n",
    "    MET_pt_ak = ak.from_arrow(MET_pt_arrow)\n",
    "    MET_pt_ak_cuda = ak.to_backend(MET_pt_ak, \"cuda\")\n",
    "    MET_pt_ak_cuda.MET_pt**2\n",
    "    d.synchronize()"
   ]
  }
 ],
 "metadata": {
  "kernelspec": {
   "display_name": "Python [conda env:.conda-kvikio-env]",
   "language": "python",
   "name": "conda-env-.conda-kvikio-env-py"
  },
  "language_info": {
   "codemirror_mode": {
    "name": "ipython",
    "version": 3
   },
   "file_extension": ".py",
   "mimetype": "text/x-python",
   "name": "python",
   "nbconvert_exporter": "python",
   "pygments_lexer": "ipython3",
   "version": "3.11.9"
  }
 },
 "nbformat": 4,
 "nbformat_minor": 5
}
