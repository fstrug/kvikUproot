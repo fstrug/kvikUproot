{
 "cells": [
  {
   "cell_type": "markdown",
   "id": "3203051c-e722-4b33-ac78-662c55f6bf24",
   "metadata": {},
   "source": [
    "# Writing Cupy Array with Kvikio.CuFile"
   ]
  },
  {
   "cell_type": "code",
   "execution_count": 1,
   "id": "d77cb555-1fa1-4327-bd5b-0087a42078fb",
   "metadata": {},
   "outputs": [],
   "source": [
    "import cupy as cp\n",
    "import kvikio\n",
    "\n",
    "# Generate matrix of random data\n",
    "a = cp.random.rand(100, dtype = \"float32\")"
   ]
  },
  {
   "cell_type": "code",
   "execution_count": 2,
   "id": "2f0f6d18-6108-4edf-accd-8b801d1c4589",
   "metadata": {},
   "outputs": [],
   "source": [
    "# Write matrix to a file (CuFile)\n",
    "f = kvikio.CuFile(\"/home/fstrug/uscmshome/nobackup/GPU/kvikio_playground/test_file\", \"w\")\n",
    "f.write(a)\n",
    "f.close()"
   ]
  },
  {
   "cell_type": "markdown",
   "id": "8471d81f-5e5f-4646-a211-ca98eb6e9526",
   "metadata": {},
   "source": [
    "# Using kvikio.zarr and LZ4 Compression"
   ]
  },
  {
   "cell_type": "code",
   "execution_count": 3,
   "id": "44f83fe0-6282-4552-b7bd-4b93451c3444",
   "metadata": {},
   "outputs": [],
   "source": [
    "# Write cupy array to zarr file with lz4 compression\n",
    "import cupy as cp\n",
    "import numpy\n",
    "import zarr\n",
    "\n",
    "import kvikio\n",
    "import kvikio.zarr\n",
    "\n",
    "def main(path):\n",
    "    #Create zarr file on disk\n",
    "    z = kvikio.zarr.open_cupy_array(store=path, \n",
    "                                    mode=\"w\", \n",
    "                                    shape = (100), \n",
    "                                    chunks = (100),\n",
    "                                    compressor=kvikio.zarr.CompatCompressor.lz4(), #cpu can read\n",
    "                                   )\n",
    "    z[:] = a\n",
    "\n",
    "path_lz4 = \"/home/fstrug/uscmshome/nobackup/GPU/kvikio_playground/zarr_file_lz4/\"\n",
    "if __name__ == \"__main__\":\n",
    "    main(path_lz4)"
   ]
  },
  {
   "cell_type": "code",
   "execution_count": 4,
   "id": "6df3c88d-7b8b-4c2c-a323-3b23ed7f6ea7",
   "metadata": {},
   "outputs": [
    {
     "data": {
      "text/plain": [
       "NvCompBatchCodec(algorithm='lz4', options={})"
      ]
     },
     "execution_count": 4,
     "metadata": {},
     "output_type": "execute_result"
    }
   ],
   "source": [
    "# Read in zarr file with KVIKio to cupy array\n",
    "z_0 = kvikio.zarr.open_cupy_array(store=path_lz4, \n",
    "                                  mode=\"r\")\n",
    "assert(z_0[:] == a).all()\n",
    "z_0.compressor"
   ]
  },
  {
   "cell_type": "code",
   "execution_count": 5,
   "id": "750abd5b-5d9c-46f8-8cbf-4e2b60558c75",
   "metadata": {},
   "outputs": [
    {
     "data": {
      "text/plain": [
       "LZ4(acceleration=1)"
      ]
     },
     "execution_count": 5,
     "metadata": {},
     "output_type": "execute_result"
    }
   ],
   "source": [
    "# Read in zarr file with zarr to nump array\n",
    "z_1 = zarr.open_array(path_lz4)\n",
    "assert(z_1[:] == a.get()).all()\n",
    "z_1.compressor"
   ]
  },
  {
   "cell_type": "markdown",
   "id": "bb6416e8-dd3d-4b9f-bba1-f365ee39d4b8",
   "metadata": {},
   "source": [
    "# Using kvikio.zarr and ZSTD compression"
   ]
  },
  {
   "cell_type": "code",
   "execution_count": 6,
   "id": "6ae45da3-bf22-41ec-896a-3f2626404730",
   "metadata": {},
   "outputs": [],
   "source": [
    "# Write cupy array to zarr file with zstd compression\n",
    "import cupy as cp\n",
    "import numpy\n",
    "import zarr\n",
    "\n",
    "import kvikio\n",
    "import kvikio.zarr\n",
    "\n",
    "def main(path):\n",
    "    #Create zarr file on disk\n",
    "    z_zstd = kvikio.zarr.open_cupy_array(store=path, \n",
    "                                    mode=\"w\", \n",
    "                                    shape = (100), \n",
    "                                    chunks = (100),\n",
    "                                    compressor=kvikio.nvcomp_codec.NvCompBatchCodec(\"zstd\"),\n",
    "                                   )\n",
    "    z_zstd[:] = a\n",
    "\n",
    "path_zstd = \"/home/fstrug/uscmshome/nobackup/GPU/kvikio_playground/zarr_file_zstd/\"\n",
    "if __name__ == \"__main__\":\n",
    "    main(path_zstd)"
   ]
  },
  {
   "cell_type": "code",
   "execution_count": 7,
   "id": "fee46835-d83f-414e-919e-795f0e5c2d78",
   "metadata": {},
   "outputs": [
    {
     "data": {
      "text/plain": [
       "NvCompBatchCodec(algorithm='zstd', options={})"
      ]
     },
     "execution_count": 7,
     "metadata": {},
     "output_type": "execute_result"
    }
   ],
   "source": [
    "# Read zarr file with zstd compression to cupy array via GDS\n",
    "z_0_zstd = kvikio.zarr.open_cupy_array(store=path_zstd, \n",
    "                                       mode=\"r\",\n",
    "                                       compressor=kvikio.nvcomp_codec.NvCompBatchCodec(\"zstd\"))\n",
    "assert (z_0_zstd[:] == a).all()\n",
    "z_0_zstd.compressor"
   ]
  },
  {
   "cell_type": "code",
   "execution_count": 8,
   "id": "e682ea27-ba81-4fac-bbd0-b009ce0f54bb",
   "metadata": {},
   "outputs": [
    {
     "data": {
      "text/plain": [
       "NvCompBatchCodec(algorithm='zstd', options={})"
      ]
     },
     "execution_count": 8,
     "metadata": {},
     "output_type": "execute_result"
    }
   ],
   "source": [
    "# Read in zarr file with zarr through CPU to numpy array\n",
    "z_1_zstd = zarr.open_array(path_zstd)\n",
    "assert(z_1_zstd[:] == a.get()).all()\n",
    "z_1_zstd.compressor"
   ]
  }
 ],
 "metadata": {
  "kernelspec": {
   "display_name": "Python [conda env:.conda-kvikio-env]",
   "language": "python",
   "name": "conda-env-.conda-kvikio-env-py"
  },
  "language_info": {
   "codemirror_mode": {
    "name": "ipython",
    "version": 3
   },
   "file_extension": ".py",
   "mimetype": "text/x-python",
   "name": "python",
   "nbconvert_exporter": "python",
   "pygments_lexer": "ipython3",
   "version": "3.11.9"
  }
 },
 "nbformat": 4,
 "nbformat_minor": 5
}
