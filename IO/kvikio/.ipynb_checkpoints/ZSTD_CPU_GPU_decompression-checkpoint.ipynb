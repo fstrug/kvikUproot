{
 "cells": [
  {
   "cell_type": "code",
   "execution_count": null,
   "id": "e34dfbf6-492d-45f2-835b-83aa20bef32f",
   "metadata": {},
   "outputs": [],
   "source": [
    "from kvikio.nvcomp_codec import NvCompBatchCodec\n",
    "from kvikio.zarr import NVCompCompressor\n",
    "import numpy as np\n",
    "import io\n",
    "import cupy as cp\n",
    "import numpy\n",
    "import zstandard as zstd\n",
    "import sys"
   ]
  },
  {
   "cell_type": "markdown",
   "id": "5f2b554c-ed6a-4f83-9570-6cabb22dcbdb",
   "metadata": {},
   "source": [
    "# (SLOW) Read compressed buffer from file to GPU -> decompress buffer on GPU \n",
    "\n",
    "The problem: Compress file with zstd using CPU, then read it into GPU and decompress it there. Validate against CPU compression."
   ]
  },
  {
   "cell_type": "markdown",
   "id": "17437d0d-b880-4c59-8e6e-331b8cd1acb6",
   "metadata": {},
   "source": [
    "## Generate and compress some data with zstd on CPU and save"
   ]
  },
  {
   "cell_type": "code",
   "execution_count": null,
   "id": "44f8a811-61d2-4207-8f1f-dcb7fff38612",
   "metadata": {},
   "outputs": [],
   "source": [
    "# Create a sample NumPy array\n",
    "dtype = np.float32\n",
    "shape = (100000, 10000)\n",
    "data_CPU = np.random.default_rng().random(shape, dtype=dtype)\n",
    "\n",
    "# Compress the data using zstd\n",
    "compressor = zstd.ZstdCompressor()\n",
    "compressed_data = compressor.compress(data_CPU.tobytes())\n",
    "\n",
    "data_compressed_CPU_path = \"/home/fstrug/uscmshome/nobackup/GPU/kvikio_playground/compressed_data_zstd_CPU.zst\"\n",
    "# Save the compressed data to a file\n",
    "with open(data_compressed_CPU_path, 'wb') as f:\n",
    "    f.write(compressed_data)\n"
   ]
  },
  {
   "cell_type": "markdown",
   "id": "fc2c7ddf-9168-48f3-8ecd-774f21922b14",
   "metadata": {},
   "source": [
    "### Generate and compress some data with zstd on GPU and save (Example)"
   ]
  },
  {
   "cell_type": "code",
   "execution_count": null,
   "id": "2a7b69c5-c1aa-4fc4-bd7a-af950defb011",
   "metadata": {},
   "outputs": [],
   "source": [
    "# Compress data to file with GPU (must be small cp array or get error due to large chunk size)\n",
    "data_GPU = cp.random.rand(1000,1000, dtype=np.float32)\n",
    "codec = NvCompBatchCodec(\"zstd\")\n",
    "data_compressed_GPU = codec.encode(data_GPU)\n",
    "\n",
    "data_compressed_GPU_path = \"/home/fstrug/uscmshome/nobackup/GPU/kvikio_playground/compressed_data_zstd_GPU.zst\"\n",
    "#Write compressed data to file\n",
    "with open(data_compressed_GPU_path, \"wb\") as f:\n",
    "    f.write(data_compressed_GPU)\n"
   ]
  },
  {
   "cell_type": "markdown",
   "id": "5e99534c-b86d-4b6e-a2a6-7d0b385bcd5e",
   "metadata": {},
   "source": [
    "## Read zstd compressed data to CPU and decompress on CPU"
   ]
  },
  {
   "cell_type": "code",
   "execution_count": null,
   "id": "37180e08-26b5-4141-859d-4953b3a65e38",
   "metadata": {},
   "outputs": [],
   "source": [
    "# Read compressed data to CPU\n",
    "with open(data_compressed_CPU_path, 'rb') as f:\n",
    "    compressed_data = f.read()\n",
    "\n",
    "# Decompress the data using zstd\n",
    "decompressor = zstd.ZstdDecompressor()\n",
    "data_decompressed_CPU = decompressor.decompress(compressed_data)\n",
    "\n",
    "# Convert the bytes back to a NumPy array\n",
    "nparray_decompressed_CPU = np.frombuffer(data_decompressed_CPU, dtype=dtype).reshape(shape)"
   ]
  },
  {
   "cell_type": "markdown",
   "id": "0bbca21f-b276-4062-8dee-6ce8e317101e",
   "metadata": {},
   "source": [
    "## Read zstd compressed data to CPU and decompress on GPU"
   ]
  },
  {
   "cell_type": "code",
   "execution_count": null,
   "id": "535f60ec-445b-4c0f-9317-627d09b122e9",
   "metadata": {},
   "outputs": [],
   "source": [
    "#Read compressed data to CPU\n",
    "with open(data_compressed_CPU_path, \"rb\") as f:\n",
    "    read_comp_data = f.read()\n",
    "\n",
    "outGPU = cp.empty_like(data_CPU, dtype=dtype)\n",
    "# Decode compressed data on GPU\n",
    "codec = NvCompBatchCodec(\"zstd\")\n",
    "decompressed_data_byGPU = codec.decode(read_comp_data, out = outGPU).view(dtype).reshape(shape) # will return to CPU npArray if not given cpArray for output"
   ]
  },
  {
   "cell_type": "markdown",
   "id": "931f2d13-e035-49e4-a5fa-519d673e5e2c",
   "metadata": {},
   "source": [
    "## Check that CPU and GPU decompression give same result"
   ]
  },
  {
   "cell_type": "code",
   "execution_count": null,
   "id": "2a0480c2-70a0-4730-a481-d57d1bb87f43",
   "metadata": {},
   "outputs": [],
   "source": [
    "# Check array correctly decompressed\n",
    "assert (nparray_decompressed_CPU == data_CPU).all()"
   ]
  },
  {
   "cell_type": "code",
   "execution_count": null,
   "id": "cf098a8c-4bca-4ea0-8eb1-0b95e0eb1974",
   "metadata": {},
   "outputs": [],
   "source": [
    "# Check CPU and GPU decompression give same result\n",
    "assert (nparray_decompressed_CPU == decompressed_data_byGPU.get()).all()"
   ]
  },
  {
   "cell_type": "markdown",
   "id": "c53761ad-6e4e-447f-8701-3c4f03dccf1c",
   "metadata": {},
   "source": [
    "# (FAST) Chunked compressed buffer to GPU -> decompress buffer on GPU "
   ]
  },
  {
   "cell_type": "code",
   "execution_count": null,
   "id": "24786bde-92d8-4cf9-9d1f-608dae4da554",
   "metadata": {},
   "outputs": [],
   "source": [
    "# Generate chunks of data\n",
    "shape_chunk = (1000, 1000)\n",
    "N_chunks = 1000\n",
    "chunks = [np.random.default_rng().random(shape_chunk, dtype=np.float32) for i in range(N_chunks)]\n",
    "chunks_combined = np.concatenate(chunks)\n"
   ]
  },
  {
   "cell_type": "markdown",
   "id": "6a11d583-5a53-4398-85bd-52435fe5ca51",
   "metadata": {},
   "source": [
    "## CPU Compression"
   ]
  },
  {
   "cell_type": "code",
   "execution_count": null,
   "id": "d016f7d6-9a6a-48d3-8455-a1a3f7689c41",
   "metadata": {},
   "outputs": [],
   "source": [
    "# Compress the data using zstd\n",
    "compressor = zstd.ZstdCompressor()\n",
    "compressed_data = compressor.compress(chunks_combined.tobytes())\n",
    "\n",
    "compressed_data_chunks = []\n",
    "for c in chunks:\n",
    "    compressed_data_chunks.append(compressor.compress(c.tobytes()))\n",
    "compressed_data_chunks = np.array(compressed_data_chunks)"
   ]
  },
  {
   "cell_type": "markdown",
   "id": "990ea15c-2a17-4f4b-a374-6072bc7e4119",
   "metadata": {},
   "source": [
    "## CPU Decompression"
   ]
  },
  {
   "cell_type": "code",
   "execution_count": null,
   "id": "75a6d125-e7fe-486a-9ba1-16b0ade05738",
   "metadata": {},
   "outputs": [],
   "source": [
    "%%time\n",
    "# Decompress the data using zstd\n",
    "decompressor = zstd.ZstdDecompressor()\n",
    "data_decompressed_CPU = decompressor.decompress(compressed_data)\n",
    "nparray_decompressed_CPU = np.frombuffer(data_decompressed_CPU, dtype=np.float32).reshape((shape_chunk[0]*N_chunks, shape_chunk[1]))"
   ]
  },
  {
   "cell_type": "code",
   "execution_count": null,
   "id": "f04038ff-68d9-4a66-b6d5-8f4f73d0b85d",
   "metadata": {},
   "outputs": [],
   "source": [
    "assert (chunks_combined == nparray_decompressed_CPU).all()"
   ]
  },
  {
   "cell_type": "markdown",
   "id": "d5339695-6779-40f9-a567-4279a57bb994",
   "metadata": {},
   "source": [
    "## GPU Decompression "
   ]
  },
  {
   "cell_type": "code",
   "execution_count": null,
   "id": "923c6167-cc51-4e43-8aee-5678317bb71d",
   "metadata": {},
   "outputs": [],
   "source": [
    "%%time\n",
    "codec = NvCompBatchCodec(\"zstd\")\n",
    "out_buf = [cp.empty_like(c) for c in chunks]\n",
    "decompressed_data_byGPU = codec.decode_batch(compressed_data_chunks, out = out_buf) # will return to CPU npArray if not given cpArray for output\n",
    "cparray_decompressed_GPU = cp.concatenate(decompressed_data_byGPU).reshape((shape_chunk[0]*N_chunks, shape_chunk[1]))"
   ]
  },
  {
   "cell_type": "code",
   "execution_count": null,
   "id": "16fb1af7-e1f0-41d5-b771-86553a6e04c5",
   "metadata": {},
   "outputs": [],
   "source": [
    "assert (cparray_decompressed_GPU.get() == nparray_decompressed_CPU).all()\n",
    "assert (cparray_decompressed_GPU.get() == chunks_combined).all()"
   ]
  },
  {
   "cell_type": "markdown",
   "id": "0d13d0a9-7865-46b7-af5a-f48d6dd62c44",
   "metadata": {},
   "source": [
    "# Chunk data, compress to single file, open and decompress"
   ]
  },
  {
   "cell_type": "markdown",
   "id": "5e0cf0b4-34a5-4a7e-8fe6-d87bd27f5d9f",
   "metadata": {},
   "source": [
    "## Helper Functions"
   ]
  },
  {
   "cell_type": "code",
   "execution_count": null,
   "id": "38f22b47-494b-4c95-a6d1-94763a964838",
   "metadata": {},
   "outputs": [],
   "source": [
    "def compress_chunks(chunks):\n",
    "    compressor = zstd.ZstdCompressor()\n",
    "    compressed_chunks = []\n",
    "    compressed_chunk_sizes = []\n",
    "    for c in chunks:\n",
    "        compressed_c = compressor.compress(c.tobytes())\n",
    "        compressed_chunks.append(compressed_c)\n",
    "        compressed_chunk_sizes.append(np.uint64(len(compressed_c)))\n",
    "\n",
    "    return(compressed_chunks, compressed_chunk_sizes)\n",
    "\n",
    "def get_chunk_sizes(chunks):\n",
    "    chunk_sizes = []\n",
    "    for c in chunks:\n",
    "        chunk_sizes.append(np.uint64(len(c.tobytes())))\n",
    "\n",
    "    return(chunk_sizes)\n",
    "\n",
    "def compress_chunks_to_file(chunks, path):\n",
    "    # Get chunk metadata\n",
    "    N_chunks = np.uint32(len(chunks))\n",
    "    chunk_sizes = get_chunk_sizes(chunks)\n",
    "    compressed_chunks, compressed_chunk_sizes = compress_chunks(chunks)\n",
    "    \n",
    "    # Save the compressed data to a file\n",
    "    with open(path, 'wb') as f:\n",
    "        ###\n",
    "        # Write header\n",
    "        header_offset = np.uint64(4 + N_chunks * (8 + 8 + 8) + 4)\n",
    "        f.write(N_chunks.tobytes())\n",
    "        for i in range(N_chunks):\n",
    "            offset = header_offset + np.uint64(np.sum(compressed_chunk_sizes[0:i]))\n",
    "            f.write(offset.tobytes())\n",
    "            f.write(compressed_chunk_sizes[i].tobytes())\n",
    "            f.write(chunk_sizes[i].tobytes())\n",
    "        f.write(b'\\x00' * 4)\n",
    "        \n",
    "        ###\n",
    "        # Write data\n",
    "        for i in range(N_chunks):\n",
    "            f.write(compressed_chunks[i])\n",
    "\n",
    "def get_chunks_from_file(path):\n",
    "    with open(path, 'rb') as f:\n",
    "        # Get N_chunks\n",
    "        N_chunks = np.frombuffer(f.read(4), np.uint32)[0]\n",
    "        offsets = []\n",
    "        compressed_chunk_sizes = []\n",
    "        uncompressed_chunk_sizes = []\n",
    "        \n",
    "        for i in range(N_chunks):\n",
    "            f.seek(4 + i * (8 + 8 + 8))\n",
    "            byte_range = f.read(24)\n",
    "            offset = byte_range[0:8]\n",
    "            compressed_chunk_size = byte_range[8:16]\n",
    "            uncompressed_chunk_size = byte_range[16:24]\n",
    "\n",
    "            offsets.append(np.frombuffer(offset, np.uint64)[0])\n",
    "            compressed_chunk_sizes.append(np.frombuffer(compressed_chunk_size, np.uint64)[0])\n",
    "            uncompressed_chunk_sizes.append(np.frombuffer(uncompressed_chunk_size, np.uint64)[0])\n",
    "\n",
    "        # Read chunk byte ranges and decompress\n",
    "        decompressed_chunks = []\n",
    "        compressed_chunks = []\n",
    "        decompressor = zstd.ZstdDecompressor()\n",
    "        for i in range(N_chunks):\n",
    "            # Find compressed chunk\n",
    "            f.seek(offsets[i])\n",
    "            compressed_chunk = f.read(compressed_chunk_sizes[i])\n",
    "            compressed_chunks.append(compressed_chunk)\n",
    "            # Decompress chunk\n",
    "\n",
    "        return(compressed_chunks)\n",
    "\n",
    "def CPU_decompression(chunks):\n",
    "    decompressed_chunks = []\n",
    "    \n",
    "    # Decompress the data using zstd\n",
    "    decompressor = zstd.ZstdDecompressor()\n",
    "    for c in chunks:\n",
    "        c_decompressed_CPU = decompressor.decompress(c)\n",
    "        decompressed_chunks.append(c_decompressed_CPU)\n",
    "    \n",
    "    return(decompressed_chunks)"
   ]
  },
  {
   "cell_type": "markdown",
   "id": "8e9e8f09-496a-4e0b-8c4d-8d3511f7ecf5",
   "metadata": {},
   "source": [
    "## Generate, write, and load File"
   ]
  },
  {
   "cell_type": "code",
   "execution_count": null,
   "id": "8c1a2637-9bfc-47a0-8cdd-ed4c5d8b6628",
   "metadata": {},
   "outputs": [],
   "source": [
    "# Generate chunks of data and save\n",
    "shape_chunk = (100000)\n",
    "chunks = [np.random.default_rng().random(shape_chunk, dtype=np.float32) for i in range(1000)]\n",
    "\n",
    "data_compressed_CPU_path_chunked = \"/home/fstrug/uscmshome/nobackup/GPU/kvikio_playground/compressed_data_zstd_CPU_chunked.zst\"\n",
    "compress_chunks_to_file(chunks, data_compressed_CPU_path_chunked)"
   ]
  },
  {
   "cell_type": "code",
   "execution_count": null,
   "id": "af6349bc-eb33-487e-ad77-be965bfb8fe3",
   "metadata": {},
   "outputs": [],
   "source": [
    "# Read\n",
    "compressed_chunks_loaded_bytes = get_chunks_from_file(data_compressed_CPU_path_chunked)"
   ]
  },
  {
   "cell_type": "markdown",
   "id": "b4ba245b-5cb0-4149-8e8e-a859500eb6eb",
   "metadata": {},
   "source": [
    "## CPU Decompression"
   ]
  },
  {
   "cell_type": "code",
   "execution_count": null,
   "id": "77cb9835-77e9-40a0-9784-9f46ef02193c",
   "metadata": {},
   "outputs": [],
   "source": [
    "%%time\n",
    "# Load compressed chunks to CPU and decompress on CPU\n",
    "decompressed_chunks_bytes = CPU_decompression(compressed_chunks_loaded_bytes)\n",
    "chunks_loaded_bytes_joined = b''.join(decompressed_chunks_bytes)\n",
    "chunk_loaded_CPU = np.frombuffer(chunks_loaded_bytes_joined, np.float32)"
   ]
  },
  {
   "cell_type": "code",
   "execution_count": null,
   "id": "7b6a7b2c-e930-4f2a-8776-be1b1f151904",
   "metadata": {},
   "outputs": [],
   "source": [
    "# Check CPU decompression worked\n",
    "assert (np.concatenate(chunks) == chunk_loaded_CPU).all()"
   ]
  },
  {
   "cell_type": "markdown",
   "id": "f766438e-ea09-492e-83c1-fee55f147a37",
   "metadata": {},
   "source": [
    "## GPU Decompression"
   ]
  },
  {
   "cell_type": "code",
   "execution_count": null,
   "id": "e9b3b430-c1c9-41ea-aa85-ad1868cb711b",
   "metadata": {},
   "outputs": [],
   "source": [
    "%%time\n",
    "out_buf = [cp.empty_like(c) for c in chunks] #this is a bit of a cheat (not reading chunk shapes from file)\n",
    "codec = NvCompBatchCodec(\"zstd\")\n",
    "decompressed_data_byGPU = codec.decode_batch(compressed_chunks_loaded_bytes, out = out_buf) # will return to CPU npArray if not given cpArray for output\n",
    "chunk_loaded_GPU = cp.concatenate(decompressed_data_byGPU).view(np.float32)"
   ]
  },
  {
   "cell_type": "code",
   "execution_count": null,
   "id": "d1ecf975-17cf-4370-aaae-4079015e8415",
   "metadata": {},
   "outputs": [],
   "source": [
    "# Check GPU decompression worked\n",
    "assert (chunk_loaded_CPU == chunk_loaded_GPU.get()).all()"
   ]
  }
 ],
 "metadata": {
  "kernelspec": {
   "display_name": "Python [conda env:.conda-kvikio-env]",
   "language": "python",
   "name": "conda-env-.conda-kvikio-env-py"
  },
  "language_info": {
   "codemirror_mode": {
    "name": "ipython",
    "version": 3
   },
   "file_extension": ".py",
   "mimetype": "text/x-python",
   "name": "python",
   "nbconvert_exporter": "python",
   "pygments_lexer": "ipython3",
   "version": "3.11.9"
  }
 },
 "nbformat": 4,
 "nbformat_minor": 5
}
